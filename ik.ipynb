{
 "cells": [
  {
   "cell_type": "code",
   "execution_count": 6,
   "source": [
    "import numpy as np\r\n",
    "from numba import jit\r\n",
    "import cProfile, pstats, io\r\n",
    "from pstats import SortKey\r\n",
    "\r\n",
    "\r\n",
    "def printStats( func ):\r\n",
    "    def wrapped( *args, **kwargs ):\r\n",
    "        pr = cProfile.Profile()\r\n",
    "        pr.enable()\r\n",
    "        func( *args, **kwargs)\r\n",
    "        pr.disable()\r\n",
    "        s = io.StringIO()\r\n",
    "        sortby = SortKey.CUMULATIVE\r\n",
    "        ps = pstats.Stats(pr, stream=s).sort_stats(sortby)\r\n",
    "        ps.print_stats()\r\n",
    "        print(s.getvalue())\r\n",
    "    \r\n",
    "    return wrapped"
   ],
   "outputs": [],
   "metadata": {}
  },
  {
   "cell_type": "code",
   "execution_count": 19,
   "source": [
    "class Joint:\r\n",
    "    def __init__( self, length : float, q : float, parent : Joint = None ):\r\n",
    "        self.length = length\r\n",
    "        self.q = q\r\n",
    "        self.parent = parent\r\n",
    "    \r\n",
    "    def __str__( self ):\r\n",
    "        return 'l = {}, q = {}'.format( self.length, self.q )"
   ],
   "outputs": [],
   "metadata": {}
  },
  {
   "cell_type": "code",
   "execution_count": 20,
   "source": [
    "@jit\r\n",
    "def fib( n : int ):\r\n",
    "    if n == 0:\r\n",
    "        return 1\r\n",
    "    if n == 1:\r\n",
    "        return 1\r\n",
    "    else:\r\n",
    "        r = fib( n - 1 ) + fib( n - 2 )\r\n",
    "        return r"
   ],
   "outputs": [],
   "metadata": {}
  },
  {
   "cell_type": "code",
   "execution_count": 21,
   "source": [
    "pr = cProfile.Profile()\r\n",
    "pr.enable()\r\n",
    "fib(35)\r\n",
    "pr.disable()\r\n",
    "s = io.StringIO()\r\n",
    "sortby = SortKey.CUMULATIVE\r\n",
    "ps = pstats.Stats(pr, stream=s).sort_stats(sortby)\r\n",
    "ps.print_stats()\r\n",
    "# print(s.getvalue())"
   ],
   "outputs": [
    {
     "output_type": "execute_result",
     "data": {
      "text/plain": [
       "<pstats.Stats at 0x1ad1cd5c348>"
      ]
     },
     "metadata": {},
     "execution_count": 21
    }
   ],
   "metadata": {}
  },
  {
   "cell_type": "code",
   "execution_count": 22,
   "source": [
    "joints = []\r\n",
    "for i in range(5):\r\n",
    "    prev = None\r\n",
    "    if i != 0:\r\n",
    "        prev = joint[ i - 1 ]\r\n",
    "    joints.append( Joint( 3, 0, prev ) )\r\n",
    "    "
   ],
   "outputs": [
    {
     "output_type": "error",
     "ename": "TypeError",
     "evalue": "__init__() takes from 2 to 3 positional arguments but 4 were given",
     "traceback": [
      "\u001b[1;31m---------------------------------------------------------------------------\u001b[0m",
      "\u001b[1;31mTypeError\u001b[0m                                 Traceback (most recent call last)",
      "\u001b[1;32m<ipython-input-22-f45c1df5ede4>\u001b[0m in \u001b[0;36m<module>\u001b[1;34m\u001b[0m\n\u001b[0;32m      4\u001b[0m     \u001b[1;32mif\u001b[0m \u001b[0mi\u001b[0m \u001b[1;33m!=\u001b[0m \u001b[1;36m0\u001b[0m\u001b[1;33m:\u001b[0m\u001b[1;33m\u001b[0m\u001b[1;33m\u001b[0m\u001b[0m\n\u001b[0;32m      5\u001b[0m         \u001b[0mprev\u001b[0m \u001b[1;33m=\u001b[0m \u001b[0mjoint\u001b[0m\u001b[1;33m[\u001b[0m \u001b[0mi\u001b[0m \u001b[1;33m-\u001b[0m \u001b[1;36m1\u001b[0m \u001b[1;33m]\u001b[0m\u001b[1;33m\u001b[0m\u001b[1;33m\u001b[0m\u001b[0m\n\u001b[1;32m----> 6\u001b[1;33m     \u001b[0mjoints\u001b[0m\u001b[1;33m.\u001b[0m\u001b[0mappend\u001b[0m\u001b[1;33m(\u001b[0m \u001b[0mJoint\u001b[0m\u001b[1;33m(\u001b[0m \u001b[1;36m3\u001b[0m\u001b[1;33m,\u001b[0m \u001b[1;36m0\u001b[0m\u001b[1;33m,\u001b[0m \u001b[0mprev\u001b[0m \u001b[1;33m)\u001b[0m \u001b[1;33m)\u001b[0m\u001b[1;33m\u001b[0m\u001b[1;33m\u001b[0m\u001b[0m\n\u001b[0m\u001b[0;32m      7\u001b[0m \u001b[1;33m\u001b[0m\u001b[0m\n",
      "\u001b[1;31mTypeError\u001b[0m: __init__() takes from 2 to 3 positional arguments but 4 were given"
     ]
    }
   ],
   "metadata": {}
  },
  {
   "cell_type": "code",
   "execution_count": null,
   "source": [],
   "outputs": [],
   "metadata": {}
  }
 ],
 "metadata": {
  "kernelspec": {
   "name": "python3",
   "display_name": "Python 3.7.7 64-bit"
  },
  "language_info": {
   "codemirror_mode": {
    "name": "ipython",
    "version": 3
   },
   "file_extension": ".py",
   "mimetype": "text/x-python",
   "name": "python",
   "nbconvert_exporter": "python",
   "pygments_lexer": "ipython3",
   "version": "3.7.7"
  },
  "interpreter": {
   "hash": "0600588c3b5f4418cbe7b5ebc6825b479f3bc010269d8b60d75058cdd010adfe"
  }
 },
 "nbformat": 4,
 "nbformat_minor": 5
}